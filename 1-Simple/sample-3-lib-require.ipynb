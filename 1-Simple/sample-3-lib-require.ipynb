{
 "cells": [
  {
   "cell_type": "markdown",
   "metadata": {},
   "source": [
    "# Sample 3 - Library import with require\n",
    "\n",
    "## Variant 1"
   ]
  },
  {
   "cell_type": "code",
   "execution_count": 1,
   "metadata": {
    "dotnet_interactive": {
     "language": "javascript"
    },
    "polyglot_notebook": {
     "kernelName": "javascript"
    }
   },
   "outputs": [],
   "source": [
    "lodashloader = (require.config({\n",
    "    paths: {\n",
    "        // d3: 'https://cdn.jsdelivr.net/npm/d3@7.4.4/dist/d3.min',\n",
    "        // jquery: 'https://cdn.jsdelivr.net/npm/jquery@3.6.0/dist/jquery.min',\n",
    "        lodash: 'https://cdn.jsdelivr.net/npm/lodash@4.17.21/lodash.min'\n",
    "    },\n",
    "\n",
    "    shim: {\n",
    "        lodash: {\n",
    "            // deps: ['d3', 'jquery'],\n",
    "            exports: 'lodash'\n",
    "        }\n",
    "    }\n",
    "}) || require);\n"
   ]
  },
  {
   "cell_type": "code",
   "execution_count": 2,
   "metadata": {
    "dotnet_interactive": {
     "language": "javascript"
    },
    "polyglot_notebook": {
     "kernelName": "javascript"
    }
   },
   "outputs": [],
   "source": [
    "//plotlyloader(['d3', 'plotly'], function (d3, plotly) {\n",
    "lodashloader(['lodash'], function (lodash) {\n",
    "  const input = \"Gurke Tomate Zwiebel\";\n",
    "  kC = lodash.kebabCase(input);\n",
    "});"
   ]
  },
  {
   "cell_type": "code",
   "execution_count": 3,
   "metadata": {
    "dotnet_interactive": {
     "language": "javascript"
    },
    "polyglot_notebook": {
     "kernelName": "javascript"
    }
   },
   "outputs": [
    {
     "data": {
      "text/plain": [
       "gurke-tomate-zwiebel"
      ]
     },
     "metadata": {},
     "output_type": "display_data"
    }
   ],
   "source": [
    "console.log(kC);"
   ]
  },
  {
   "cell_type": "markdown",
   "metadata": {},
   "source": [
    "## Variant 2 - async/await"
   ]
  },
  {
   "cell_type": "code",
   "execution_count": 4,
   "metadata": {
    "dotnet_interactive": {
     "language": "javascript"
    },
    "polyglot_notebook": {
     "kernelName": "javascript"
    }
   },
   "outputs": [],
   "source": [
    "function loadLodash() {\n",
    "    return new Promise((resolve, reject) => {\n",
    "      require.config({\n",
    "        paths: {\n",
    "          // lodash: 'https://cdnjs.cloudflare.com/ajax/libs/lodash.js/4.17.21/lodash.min',\n",
    "          // d3: 'https://cdn.jsdelivr.net/npm/d3@7.4.4/dist/d3.min',\n",
    "          // jquery: 'https://cdn.jsdelivr.net/npm/jquery@3.6.0/dist/jquery.min',\n",
    "          lodash: 'https://cdn.jsdelivr.net/npm/lodash@4.17.21/lodash.min'\n",
    "        },\n",
    "      });\n",
    "  \n",
    "      require(['lodash'], (lodash) => {\n",
    "        resolve(lodash);\n",
    "      }, reject);\n",
    "    });\n",
    "  }\n",
    "  \n",
    "async function loadDependencies() {\n",
    "  try {\n",
    "    _ = await loadLodash();\n",
    "\n",
    "  } catch (error) {\n",
    "    console.error('Failed to load lodash:', error);\n",
    "  }\n",
    "}\n",
    "\n",
    "await loadDependencies();\n"
   ]
  },
  {
   "cell_type": "code",
   "execution_count": 5,
   "metadata": {
    "dotnet_interactive": {
     "language": "javascript"
    },
    "polyglot_notebook": {
     "kernelName": "javascript"
    }
   },
   "outputs": [
    {
     "data": {
      "text/plain": [
       "gurke-tomate-fisch"
      ]
     },
     "metadata": {},
     "output_type": "display_data"
    }
   ],
   "source": [
    "const input = \"Gurke Tomate Fisch\";\n",
    "kC2 = _.kebabCase(input);\n",
    "console.log(kC2);\n"
   ]
  }
 ],
 "metadata": {
  "kernelspec": {
   "display_name": ".NET (C#)",
   "language": "C#",
   "name": ".net-csharp"
  },
  "language_info": {
   "name": "polyglot-notebook"
  },
  "polyglot_notebook": {
   "kernelInfo": {
    "defaultKernelName": "csharp",
    "items": [
     {
      "aliases": [],
      "name": "csharp"
     },
     {
      "aliases": [],
      "languageName": "javascript",
      "name": "javascript"
     }
    ]
   }
  }
 },
 "nbformat": 4,
 "nbformat_minor": 2
}
